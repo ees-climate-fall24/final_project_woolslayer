{
 "cells": [
  {
   "cell_type": "code",
   "execution_count": null,
   "id": "0052535a-a5bc-47e3-abeb-012ff5bbe793",
   "metadata": {},
   "outputs": [],
   "source": []
  },
  {
   "cell_type": "markdown",
   "id": "bbb0a43f-967c-471b-b253-fc69da5efd35",
   "metadata": {},
   "source": [
    "# Investigating Observed Patterns of Ocean Temperature, Salinity, and Sea Level\n",
    "The goal of this notebook is to investigate observed patterns of ocean temperature, salinity, and sea level. An in-depth analysis is done to better conceptualize these variables and put them into context of how they affect the climate. Observed ocean temperature and salinity data from World Ocean Atlas (WOA18) is compared to climate model output from GDFL- ESM4's historical experiment to assess model representation of ocean temperatures and salinity. This analysis was conducted by Grace Woolslayer (grace.woolslayer@temple.edu), Tyler Wassel (tyler.wassel@temple.edu), and Ryan Pszczolkowski (ryan.pszczolkowski@temple.edu).  "
   ]
  },
  {
   "cell_type": "markdown",
   "id": "42d749e7-6a5e-46f3-85b3-b3acd6451ed5",
   "metadata": {},
   "source": [
    "# Background"
   ]
  },
  {
   "cell_type": "markdown",
   "id": "593ccadd-bd5c-4a74-95f2-8c2c29bdd87c",
   "metadata": {},
   "source": [
    "Before we proceed with the analysis, it's crucial to have a baseline understanding of how temperature and salinity can affect sea level. Below is a detailed explanation of each component and how they affect the broader climate system."
   ]
  },
  {
   "cell_type": "markdown",
   "id": "946d0669-8510-4c75-826f-946ca4f9140a",
   "metadata": {},
   "source": [
    "## Ocean Heat Content"
   ]
  },
  {
   "cell_type": "markdown",
   "id": "217d8d7b-46c6-4885-b2cd-32ab97a0ed5d",
   "metadata": {},
   "source": [
    "Our planet is often referred to as the blue planet because over 70% of it is covered by water. It is where life first emerged and evolved into what it is today. Water has many unique properties that have allowed it to sustain life directly and indirectly. The ocean, more specifically, plays a vital role in mitigating the effects of climate change by slowing down the rate at which our planet warms. It can store excess heat due to its high specific heat capacity, depth, and circulation patterns. A high specific heat capacity is significant because it takes much more energy (heat) to change temperature by one degree Celsius.  \n",
    "\n",
    "The heat that is stored in the ocean is referred to as ocean heat content. The upper layers of the ocean experience greater accumulations of heat than the deeper parts of the water column but both have seen an increase in heat gain rates in the last few decades.  Ocean waves, tides, and currents in addition to large-scale circulation patterns help distribute heat from the surface to deeper, cooler levels. A rise in ocean heat content is a result of more heat being absorbed than released.  \n",
    "\n",
    "The heat that is absorbed will eventually find its way back into Earth’s system by melting ice shelves or reheating the atmosphere. Since water has a high specific heat and most of the heat, it can take decades until the effects of the absorbed heat are seen.  \n",
    "\n",
    "In terms of how ocean heat is measured, scientists rely on sea surface heights to calculate heat content since water expands when it’s warmed. This concept is referred to as thermal expansion. To gain insights into ocean heat content at different depths, there are other methods similar to the ones mentioned above. Scientists can use CTDs, Argo floats, and even employ seals to capture temperatures at hard-to-get depths.  \n",
    "\n",
    "Heat content is commonly expressed in units of joules and anomalies are expressed in watts per square meter. The change in heat content is relatively small per square meter but the whole ocean must be considered, which is over 360 million square kilometers. Given that the heat content in the ocean will eventually be released, it is crucial to understand how much heat is being stored, how it is being transported, and how long it will take to be released. Heat content does not only affect sea levels but also the biochemistry of the ocean. \n",
    "\n",
    "To recap, increased heat in the ocean causes water to expand and decreases the solubility capacity for gases. Warm water cannot absorb as much gas, in this case carbon dioxide, as cold water. This also poses issues for global temperatures since that means that more carbon dioxide will reside in the atmosphere because of the decreased capacity of the ocean. More carbon dioxide in the atmosphere means higher global temperatures and the cycle continues.  \n",
    "\n",
    "To learn more, visit https://www.climate.gov/news-features/understanding-climate/climate-change-ocean-heat-content"
   ]
  },
  {
   "cell_type": "code",
   "execution_count": null,
   "id": "abce1288-083d-4ad0-ad44-0c7fa5bfebcb",
   "metadata": {},
   "outputs": [],
   "source": []
  },
  {
   "cell_type": "markdown",
   "id": "e92ebdc9-5ff0-48b9-a477-94b91768f832",
   "metadata": {},
   "source": [
    "## Steric Sea Level"
   ]
  },
  {
   "cell_type": "code",
   "execution_count": null,
   "id": "82dd142d-8cc0-4291-a9cf-69931031bea6",
   "metadata": {},
   "outputs": [],
   "source": []
  },
  {
   "cell_type": "markdown",
   "id": "2fea2750-8bb1-49f3-bec0-023d8e624f87",
   "metadata": {},
   "source": [
    "![](https://attachments.office.net/owa/grace.woolslayer%40temple.edu/service.svc/s/GetAttachmentThumbnail?id=AAMkAGM2NzUyNWJjLTQ1YzQtNGMxMi1hNGRlLTJlOGE3ZjBlODMwZgBGAAAAAABlPjn%2BsFMaSImfnCUlMUg%2BBwCUbdOEHEwiT5fYsWYdBIC%2BAAAAAAEMAACUbdOEHEwiT5fYsWYdBIC%2BAAN2kEOfAAABEgAQAOrlTR3SkE1Bup3%2B6q1NZnY%3D&thumbnailType=2&token=eyJhbGciOiJSUzI1NiIsImtpZCI6IkEzMDVCMkU1Q0ZERjFGQTFBODgyNTU2MzM3NDhCQkNBRTAxNUU5OTIiLCJ0eXAiOiJKV1QiLCJ4NXQiOiJvd1d5NWNfZkg2R29nbFZqTjBpN3l1QVY2WkkifQ.eyJvcmlnaW4iOiJodHRwczovL291dGxvb2sub2ZmaWNlLmNvbSIsInVjIjoiZWEwMDUzNTUwYzc5NDMwYjk0MzYwOTZiMTI5YzQ5Y2EiLCJzaWduaW5fc3RhdGUiOiJrbXNpIiwidmVyIjoiRXhjaGFuZ2UuQ2FsbGJhY2suVjEiLCJhcHBjdHhzZW5kZXIiOiJPd2FEb3dubG9hZEA3MTZlODFlZi1iNTIyLTQ0NzMtOGUzMS0xMGJkMDJjY2Y2ZTUiLCJpc3NyaW5nIjoiV1ciLCJhcHBjdHgiOiJ7XCJtc2V4Y2hwcm90XCI6XCJvd2FcIixcInB1aWRcIjpcIjExNTM4MDExMTg5MjUwNjg1OTNcIixcInNjb3BlXCI6XCJPd2FEb3dubG9hZFwiLFwib2lkXCI6XCJiNGViMDg3YS1mMWQ0LTQyMDgtYjE3ZC03NTVkNTdlMGU5MzdcIixcInByaW1hcnlzaWRcIjpcIlMtMS01LTIxLTEwOTMxODgzODUtMzg0OTI1MTEyMy0zMDYwNTIzODA4LTM4OTc1MTAxXCJ9IiwibmJmIjoxNzMzOTgyOTEwLCJleHAiOjE3MzM5ODMyMTAsImlzcyI6IjAwMDAwMDAyLTAwMDAtMGZmMS1jZTAwLTAwMDAwMDAwMDAwMEA3MTZlODFlZi1iNTIyLTQ0NzMtOGUzMS0xMGJkMDJjY2Y2ZTUiLCJhdWQiOiIwMDAwMDAwMi0wMDAwLTBmZjEtY2UwMC0wMDAwMDAwMDAwMDAvYXR0YWNobWVudHMub2ZmaWNlLm5ldEA3MTZlODFlZi1iNTIyLTQ0NzMtOGUzMS0xMGJkMDJjY2Y2ZTUiLCJoYXBwIjoib3dhIn0.dCscnHQdycz7Bmq8TaiueHXRRXgodub5EKVsS-NwBC-aRAG_HmAtTlyccF_iSCbxKC40Pmhb6tUqZHp2y5KBr4yabsu1n2z3woPxIkwJqnGOR1bw2yJzSZjcAW9GrB0Y4Tc_c4RthSvVR7FIvrZGuoD4jWLVP8aTE7U4ch1a_zMutbf8QHRID5p93Fg_8u50B2vhjsDY4Hwme-7Tzh6VCuq2zlM9EDVjPz7IcybLVDe_9ibH-kBWj_TbEOukiAI_0NBmpdCA_sFx-zmihYCeMUhfpBILy8pgjjC0H9M5boKNAchHL_MjiOC5jfdZEuvpQfydKtpYPAgjDyeZLDgqSw&X-OWA-CANARY=wTQ4TYitS48AAAAAAAAAAMBplhFyGt0YoBB62oEI_8mt5YS2AKim7U3WMZCD901Qoxxsb8lfAzk.&owa=outlook.office.com&scriptVer=20241115003.38&clientId=E0B13CC4993C4CB7B60A048DE7D949B6&animation=true)"
   ]
  },
  {
   "cell_type": "markdown",
   "id": "dcf2e345-23be-4ef8-90c0-9c53ed7690fb",
   "metadata": {},
   "source": [
    "### Halosteric Sea Level"
   ]
  },
  {
   "cell_type": "code",
   "execution_count": null,
   "id": "cc73371c-742c-495f-b9c3-70550724dfbc",
   "metadata": {},
   "outputs": [],
   "source": []
  },
  {
   "cell_type": "markdown",
   "id": "24acbea0-293d-4596-b514-5a6cf15e4c52",
   "metadata": {},
   "source": [
    "### Thermosteric Sea Level"
   ]
  },
  {
   "cell_type": "code",
   "execution_count": null,
   "id": "d5705314-b7f7-4ea7-93ed-d7dc8defbc71",
   "metadata": {},
   "outputs": [],
   "source": []
  },
  {
   "cell_type": "markdown",
   "id": "99ef0414-172a-45b7-972c-6e6a69525cf9",
   "metadata": {},
   "source": [
    "---"
   ]
  },
  {
   "cell_type": "markdown",
   "id": "be248b9c-56a6-417b-8a0f-94595c15746d",
   "metadata": {},
   "source": [
    "## Importing all Necessary Packages and Masks"
   ]
  },
  {
   "cell_type": "code",
   "execution_count": null,
   "id": "6eae3744-9539-413f-93e2-a3fa153394d0",
   "metadata": {},
   "outputs": [],
   "source": []
  },
  {
   "cell_type": "markdown",
   "id": "21381e07-da44-4f3a-a0aa-02ccb9afcad5",
   "metadata": {},
   "source": [
    "## Importing the Data"
   ]
  },
  {
   "cell_type": "markdown",
   "id": "fa1ef57f-31d3-488e-874f-8c11cc2271b2",
   "metadata": {},
   "source": [
    "### WOA18 "
   ]
  },
  {
   "cell_type": "code",
   "execution_count": 1,
   "id": "82c04f37-0d76-4855-b1a8-9ac2fa1298a5",
   "metadata": {},
   "outputs": [],
   "source": [
    "#insert WOA data here"
   ]
  },
  {
   "cell_type": "markdown",
   "id": "80af02a9-a840-4f47-9c3b-3f482b003cf8",
   "metadata": {},
   "source": [
    "Ocean temperature and salinity data is from World Ocean Atlas (WOA). “The World Ocean Atlas (WOA) is a collection of objectively analyzed, quality-controlled temperature, salinity, oxygen, phosphate, silicate, and nitrate means based on profile data from the World Ocean Database (WOD). It can be used to create boundary and/or initial conditions for various ocean models, verify numerical simulations of the ocean, and corroborate satellite data”.  \n",
    "\n",
    "“The World Ocean Database (WOD) is the world's largest collection of uniformly formatted, quality controlled, publicly available ocean profile data. It is a powerful tool for oceanographic, climatic, and environmental research, and the end result of more than 20 years of coordinated efforts to incorporate data from institutions, agencies, individual researchers, and data recovery initiatives into a single database. WOD data spans from Captain Cook's 1772 voyage to the contemporary Argo period, making it a valuable resource for long-term and historical ocean climate analysis. Original versions of the 20,000+ datasets in the WOD are available through the NCEI archives” [(NOAA)](https://www.ncei.noaa.gov/products/world-ocean-database).   \n",
    "\n",
    "Ocean temperature is measured in degrees Celsius and salinity is unitless. Data can be accessed through this link [https://www.ncei.noaa.gov/access/world-ocean-atlas-2018/]()"
   ]
  },
  {
   "cell_type": "markdown",
   "id": "f7a073f8-9842-48c8-9dad-21ae32bd5890",
   "metadata": {},
   "source": [
    "### Ocean heat content, steric sea level rise, thermosteric sea level rise, and halosteric sea level rise anomaly data"
   ]
  },
  {
   "cell_type": "code",
   "execution_count": 2,
   "id": "b70ac8a5-db92-4027-9276-a5b955145f1b",
   "metadata": {},
   "outputs": [],
   "source": [
    "#insert anomaly data here"
   ]
  },
  {
   "cell_type": "markdown",
   "id": "1d422653-86ac-4bf2-a715-368794fc483c",
   "metadata": {},
   "source": [
    "Anomaly observations provide insight for depths 0-2000 meters. Anomalies are computed over the top 700 meters (0-700) and the upper 2000 meters (0-2000). Data collected from 1955 – present. [](https://www.ncei.noaa.gov/access/global-ocean-heat-content/index.html)"
   ]
  },
  {
   "cell_type": "markdown",
   "id": "e03fc1d0-e606-45ee-902a-729fcde386bd",
   "metadata": {},
   "source": [
    "### How is Observed Data Collected?\n",
    "Temperature and salinity data can be collected throughout different depths of the water column through electrical sensors. The most common method is deploying a sensor referred to as a CTD which stands for conductivity, temperature, and depth. Depth is derived through pressure sensors and salinity can be derived from conductivity which is how well a solution can conduct electricity [NOAA](https://oceanexplorer.noaa.gov/explainers/data.html#:~:text=Two%20types%20of%20data%20are,similar%20to%20elevation%20on%20land).  \r",
    " \r\n",
    "\r\n",
    "An additional way that scientists gather information on temperature and salinity is using Argo floats. These floats free-floatingting in ue supper 2,000 meters of the ocean. They’re able to provide valuable information about the conditions of the ocean while being fully autonomous.  "
   ]
  },
  {
   "cell_type": "markdown",
   "id": "13227d60-8a68-49fd-b96e-8a5187d6bd82",
   "metadata": {},
   "source": [
    "### Model Data"
   ]
  },
  {
   "cell_type": "code",
   "execution_count": 3,
   "id": "af87af19-db48-4f3a-b1ec-3e8b254fe6c7",
   "metadata": {},
   "outputs": [],
   "source": [
    "#insert model data for temp"
   ]
  },
  {
   "cell_type": "code",
   "execution_count": 4,
   "id": "7ecfce3c-fd52-49f8-8735-9d8a4224c91a",
   "metadata": {},
   "outputs": [],
   "source": [
    "#insert model data for salinity"
   ]
  },
  {
   "cell_type": "markdown",
   "id": "666d2eb4-20d2-4a37-8d14-35833f528d52",
   "metadata": {},
   "source": [
    "Monthly simulated ocean temperatures and sea water salinity output from GFDL-ESM4 under the historical experiment spanning from 1980 – 2014 was developed at NOAA's Geophysical Fluid Dynamics Laboratory (GFDL). This data contributed to the sixth phase of the Coupled Model Intercomparison Project (CMIP6) and was made available via Google Cloud [https://console.cloud.google.com/marketplace/product/noaa-public/cmip6.](https://console.cloud.google.com/marketplace/product/noaa-public/cmip6.)"
   ]
  },
  {
   "cell_type": "markdown",
   "id": "75c6991a-4a21-4ead-a649-11f9ed9a85bd",
   "metadata": {},
   "source": [
    "---"
   ]
  },
  {
   "cell_type": "markdown",
   "id": "1986d74f-94fc-4343-9cdf-69593bc46068",
   "metadata": {},
   "source": [
    "# Analysis\n",
    "Now that we've established a basic understanding of ocean heat content, steric, halosteric, and thermosteric sea level, let's dive into the analysis!"
   ]
  },
  {
   "cell_type": "markdown",
   "id": "b73a720a-50cc-43d9-af6a-b93e1bfaf5fc",
   "metadata": {},
   "source": [
    "## Observed Ocean Heat Content"
   ]
  },
  {
   "cell_type": "code",
   "execution_count": null,
   "id": "dc8178b0-91ac-49c1-8cb5-48f8b4117c0b",
   "metadata": {},
   "outputs": [],
   "source": [
    "#0-700m"
   ]
  },
  {
   "cell_type": "code",
   "execution_count": 1,
   "id": "a4733b9a-02e8-46ec-8aa8-933e319c9057",
   "metadata": {},
   "outputs": [],
   "source": [
    "#0-2000m"
   ]
  },
  {
   "cell_type": "markdown",
   "id": "97796fdd-0d1a-46e4-aa6b-d5ba5abde99a",
   "metadata": {},
   "source": [
    "## Observed Ocean Temperatures"
   ]
  },
  {
   "cell_type": "markdown",
   "id": "4f560044-4f14-4181-ae06-a675ce27a701",
   "metadata": {},
   "source": [
    "### Sea Surface Temperatures "
   ]
  },
  {
   "cell_type": "code",
   "execution_count": null,
   "id": "880d4a09-6d61-4974-bca1-88021d96717e",
   "metadata": {},
   "outputs": [],
   "source": []
  },
  {
   "cell_type": "markdown",
   "id": "8b81d307-a4d3-4eb0-8029-809b4ef89a4b",
   "metadata": {},
   "source": [
    "### Ocean Temperatures at 1000 Meters"
   ]
  },
  {
   "cell_type": "code",
   "execution_count": null,
   "id": "29888594-8c82-4390-bace-a4892ccda619",
   "metadata": {},
   "outputs": [],
   "source": []
  },
  {
   "cell_type": "code",
   "execution_count": null,
   "id": "244d2dbe-eb9a-462d-bada-a698d4fc79d1",
   "metadata": {},
   "outputs": [],
   "source": []
  },
  {
   "cell_type": "markdown",
   "id": "3fef7a52-237f-4165-97bb-c625c2640288",
   "metadata": {},
   "source": [
    "## ESM4 Historical Model Ocean Temperatures "
   ]
  },
  {
   "cell_type": "code",
   "execution_count": 2,
   "id": "3e321e5f-730b-4c0f-9296-c79b86279313",
   "metadata": {},
   "outputs": [],
   "source": [
    "#surface temp"
   ]
  },
  {
   "cell_type": "code",
   "execution_count": 3,
   "id": "86de22c9-2b8c-4f6e-913c-6dc8e146bc10",
   "metadata": {},
   "outputs": [],
   "source": [
    "# at depth 1000m"
   ]
  },
  {
   "cell_type": "markdown",
   "id": "94458821-f043-438b-99f8-9f7f9d25457a",
   "metadata": {},
   "source": [
    "## Observed Steric Sea Level"
   ]
  },
  {
   "cell_type": "code",
   "execution_count": 4,
   "id": "fc148360-a6f4-49d7-9264-96e24fdec495",
   "metadata": {},
   "outputs": [],
   "source": [
    "# steric"
   ]
  },
  {
   "cell_type": "code",
   "execution_count": 5,
   "id": "d31d0608-85a5-4618-982e-3be8f8681cb7",
   "metadata": {},
   "outputs": [],
   "source": [
    "#halosteric"
   ]
  },
  {
   "cell_type": "code",
   "execution_count": 6,
   "id": "c1e0f46e-99a9-4cb3-aab1-a753074da794",
   "metadata": {},
   "outputs": [],
   "source": [
    "#thermosteric"
   ]
  },
  {
   "cell_type": "markdown",
   "id": "c1ad6e1f-3be4-4d05-bb3f-2c7d59921273",
   "metadata": {},
   "source": [
    "## ESM4 Model Sea Salinity"
   ]
  },
  {
   "cell_type": "code",
   "execution_count": null,
   "id": "0b56240f-f215-4d75-9fc8-02a9a892327e",
   "metadata": {},
   "outputs": [],
   "source": []
  },
  {
   "cell_type": "markdown",
   "id": "0cf15a2b-4118-4779-8de2-5c086f0a199a",
   "metadata": {},
   "source": [
    "---"
   ]
  },
  {
   "cell_type": "markdown",
   "id": "da6cdd56-06a8-4e4d-ae65-5fc669b5a99f",
   "metadata": {},
   "source": [
    "# Model Assessment"
   ]
  },
  {
   "cell_type": "code",
   "execution_count": null,
   "id": "aa9ba9cb-83d3-46da-ad3a-64d7e1fdd387",
   "metadata": {},
   "outputs": [],
   "source": []
  },
  {
   "cell_type": "code",
   "execution_count": null,
   "id": "077e5b69-f7e4-42cc-aa04-2646ec1d9662",
   "metadata": {},
   "outputs": [],
   "source": []
  },
  {
   "cell_type": "markdown",
   "id": "f028cce5-8a0a-4165-9eed-87949274d441",
   "metadata": {},
   "source": [
    "# The Big Picture"
   ]
  }
 ],
 "metadata": {
  "kernelspec": {
   "display_name": "Python 3 (ipykernel)",
   "language": "python",
   "name": "python3"
  },
  "language_info": {
   "codemirror_mode": {
    "name": "ipython",
    "version": 3
   },
   "file_extension": ".py",
   "mimetype": "text/x-python",
   "name": "python",
   "nbconvert_exporter": "python",
   "pygments_lexer": "ipython3",
   "version": "3.11.9"
  }
 },
 "nbformat": 4,
 "nbformat_minor": 5
}
