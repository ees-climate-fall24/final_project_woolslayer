{
 "cells": [
  {
   "cell_type": "markdown",
   "id": "ae20f975-498c-4e86-b1c1-99d21a363801",
   "metadata": {},
   "source": [
    "# Investigating Observed Patterns of Ocean Temperature, Salinity, and Sea Level\n",
    "The goal of this notebook is to investigate observed patterns of ocean temperature, salinity, and sea level. An in-depth analysis is done to better conceptualize these variables and put them into context of how they affect the climate. Observed ocean temperature and salinity data from World Ocean Atlas (WOA18) is compared to climate model output from GDFL- ESM4's historical experiment to assess model representation of ocean temperatures and salinity. This analysis was conducted by Grace Woolslayer (grace.woolslayer@temple.edu), Tyler Wassel (tyler.wassel@temple.edu), and Ryan Pszczolkowski (ryan.pszczolkowski@temple.edu).  "
   ]
  },
  {
   "cell_type": "markdown",
   "id": "c21cd46f-782f-4418-a03f-d8e75bec2d13",
   "metadata": {},
   "source": [
    "# Background"
   ]
  },
  {
   "cell_type": "markdown",
   "id": "89255071-4253-4727-9f94-2cedc90d2773",
   "metadata": {},
   "source": [
    "Before we proceed with the analysis, it's crucial to have a baseline understanding of how temperature and salinity can affect sea level. Below is a detailed explanation of each component and how they affect the broader climate system."
   ]
  },
  {
   "cell_type": "markdown",
   "id": "83a43887-1f73-4ee1-a984-7d63ecd22f95",
   "metadata": {},
   "source": [
    "## Ocean Heat Content"
   ]
  },
  {
   "cell_type": "markdown",
   "id": "1ad8eeea-bd36-4c68-93ed-d8749e6739a3",
   "metadata": {},
   "source": [
    "Our planet is often referred to as the blue planet because over 70% of it is covered by water. It is where life first emerged and evolved into what it is today. Water has many unique properties that have allowed it to sustain life directly and indirectly. The ocean, more specifically, plays a vital role in mitigating the effects of climate change by slowing down the rate at which our planet warms. It can store excess heat due to its high specific heat capacity, depth, and circulation patterns. A high specific heat capacity is significant because it takes much more energy (heat) to change temperature by one degree Celsius.  \n",
    "\n",
    "The heat that is stored in the ocean is referred to as ocean heat content. The upper layers of the ocean experience greater accumulations of heat than the deeper parts of the water column but both have seen an increase in heat gain rates in the last few decades.  Ocean waves, tides, and currents in addition to large-scale circulation patterns help distribute heat from the surface to deeper, cooler levels. A rise in ocean heat content is a result of more heat being absorbed than released.  \n",
    "\n",
    "The heat that is absorbed will eventually find its way back into Earth’s system by melting ice shelves or reheating the atmosphere. Since water has a high specific heat and most of the heat, it can take decades until the effects of the absorbed heat are seen.  \n",
    "\n",
    "In terms of how ocean heat is measured, scientists rely on sea surface heights to calculate heat content since water expands when it’s warmed. This concept is referred to as thermal expansion. To gain insights into ocean heat content at different depths, there are other methods similar to the ones mentioned above. Scientists can use CTDs, Argo floats, and even employ seals to capture temperatures at hard-to-get depths.  \n",
    "\n",
    "Heat content is commonly expressed in units of joules and anomalies are expressed in watts per square meter. The change in heat content is relatively small per square meter but the whole ocean must be considered, which is over 360 million square kilometers. Given that the heat content in the ocean will eventually be released, it is crucial to understand how much heat is being stored, how it is being transported, and how long it will take to be released. Heat content does not only affect sea levels but also the biochemistry of the ocean. \n",
    "\n",
    "To recap, increased heat in the ocean causes water to expand and decreases the solubility capacity for gases. Warm water cannot absorb as much gas, in this case carbon dioxide, as cold water. This also poses issues for global temperatures since that means that more carbon dioxide will reside in the atmosphere because of the decreased capacity of the ocean. More carbon dioxide in the atmosphere means higher global temperatures and the cycle continues.  \n",
    "\n",
    "To learn more, visit https://www.climate.gov/news-features/understanding-climate/climate-change-ocean-heat-content"
   ]
  },
  {
   "cell_type": "code",
   "execution_count": null,
   "id": "c0944fb7-6d78-4022-91b4-a5ae5d6c318f",
   "metadata": {},
   "outputs": [],
   "source": []
  },
  {
   "cell_type": "markdown",
   "id": "000a9f66-95bc-4e8e-b8fa-8cc4c28f1547",
   "metadata": {},
   "source": [
    "## Steric Sea Level"
   ]
  },
  {
   "cell_type": "code",
   "execution_count": null,
   "id": "ae1c65ac-8bb5-47ff-8d0b-c3f7d3af2ccb",
   "metadata": {},
   "outputs": [],
   "source": []
  },
  {
   "cell_type": "markdown",
   "id": "676ecaa5-1940-4b4e-99b2-3627be2a7ea4",
   "metadata": {},
   "source": [
    "![](https://attachments.office.net/owa/grace.woolslayer%40temple.edu/service.svc/s/GetAttachmentThumbnail?id=AAMkAGM2NzUyNWJjLTQ1YzQtNGMxMi1hNGRlLTJlOGE3ZjBlODMwZgBGAAAAAABlPjn%2BsFMaSImfnCUlMUg%2BBwCUbdOEHEwiT5fYsWYdBIC%2BAAAAAAEMAACUbdOEHEwiT5fYsWYdBIC%2BAAN2kEOfAAABEgAQAOrlTR3SkE1Bup3%2B6q1NZnY%3D&thumbnailType=2&token=eyJhbGciOiJSUzI1NiIsImtpZCI6IkEzMDVCMkU1Q0ZERjFGQTFBODgyNTU2MzM3NDhCQkNBRTAxNUU5OTIiLCJ0eXAiOiJKV1QiLCJ4NXQiOiJvd1d5NWNfZkg2R29nbFZqTjBpN3l1QVY2WkkifQ.eyJvcmlnaW4iOiJodHRwczovL291dGxvb2sub2ZmaWNlLmNvbSIsInVjIjoiZWEwMDUzNTUwYzc5NDMwYjk0MzYwOTZiMTI5YzQ5Y2EiLCJzaWduaW5fc3RhdGUiOiJrbXNpIiwidmVyIjoiRXhjaGFuZ2UuQ2FsbGJhY2suVjEiLCJhcHBjdHhzZW5kZXIiOiJPd2FEb3dubG9hZEA3MTZlODFlZi1iNTIyLTQ0NzMtOGUzMS0xMGJkMDJjY2Y2ZTUiLCJpc3NyaW5nIjoiV1ciLCJhcHBjdHgiOiJ7XCJtc2V4Y2hwcm90XCI6XCJvd2FcIixcInB1aWRcIjpcIjExNTM4MDExMTg5MjUwNjg1OTNcIixcInNjb3BlXCI6XCJPd2FEb3dubG9hZFwiLFwib2lkXCI6XCJiNGViMDg3YS1mMWQ0LTQyMDgtYjE3ZC03NTVkNTdlMGU5MzdcIixcInByaW1hcnlzaWRcIjpcIlMtMS01LTIxLTEwOTMxODgzODUtMzg0OTI1MTEyMy0zMDYwNTIzODA4LTM4OTc1MTAxXCJ9IiwibmJmIjoxNzMzOTgyOTEwLCJleHAiOjE3MzM5ODMyMTAsImlzcyI6IjAwMDAwMDAyLTAwMDAtMGZmMS1jZTAwLTAwMDAwMDAwMDAwMEA3MTZlODFlZi1iNTIyLTQ0NzMtOGUzMS0xMGJkMDJjY2Y2ZTUiLCJhdWQiOiIwMDAwMDAwMi0wMDAwLTBmZjEtY2UwMC0wMDAwMDAwMDAwMDAvYXR0YWNobWVudHMub2ZmaWNlLm5ldEA3MTZlODFlZi1iNTIyLTQ0NzMtOGUzMS0xMGJkMDJjY2Y2ZTUiLCJoYXBwIjoib3dhIn0.dCscnHQdycz7Bmq8TaiueHXRRXgodub5EKVsS-NwBC-aRAG_HmAtTlyccF_iSCbxKC40Pmhb6tUqZHp2y5KBr4yabsu1n2z3woPxIkwJqnGOR1bw2yJzSZjcAW9GrB0Y4Tc_c4RthSvVR7FIvrZGuoD4jWLVP8aTE7U4ch1a_zMutbf8QHRID5p93Fg_8u50B2vhjsDY4Hwme-7Tzh6VCuq2zlM9EDVjPz7IcybLVDe_9ibH-kBWj_TbEOukiAI_0NBmpdCA_sFx-zmihYCeMUhfpBILy8pgjjC0H9M5boKNAchHL_MjiOC5jfdZEuvpQfydKtpYPAgjDyeZLDgqSw&X-OWA-CANARY=wTQ4TYitS48AAAAAAAAAAMBplhFyGt0YoBB62oEI_8mt5YS2AKim7U3WMZCD901Qoxxsb8lfAzk.&owa=outlook.office.com&scriptVer=20241115003.38&clientId=E0B13CC4993C4CB7B60A048DE7D949B6&animation=true)"
   ]
  },
  {
   "cell_type": "markdown",
   "id": "1f72a431-567e-41b3-84ab-afec05cf41e8",
   "metadata": {},
   "source": [
    "### Halosteric Sea Level"
   ]
  },
  {
   "cell_type": "code",
   "execution_count": null,
   "id": "fcfac55c-7a1d-4cc9-9c29-c6ae8503b996",
   "metadata": {},
   "outputs": [],
   "source": []
  },
  {
   "cell_type": "markdown",
   "id": "fd6699ee-c188-4c39-8d48-33efa4366f2d",
   "metadata": {},
   "source": [
    "### Thermosteric Sea Level"
   ]
  },
  {
   "cell_type": "code",
   "execution_count": null,
   "id": "cc38a419-4da5-4541-afc2-40eb496a65f7",
   "metadata": {},
   "outputs": [],
   "source": []
  },
  {
   "cell_type": "markdown",
   "id": "77fc6fac-bfb9-470f-ad98-8476ffa02479",
   "metadata": {},
   "source": [
    "---"
   ]
  },
  {
   "cell_type": "markdown",
   "id": "a2b24ab4-d234-403c-bc87-0db960ba2fd6",
   "metadata": {},
   "source": [
    "## Importing all Necessary Packages and Masks"
   ]
  },
  {
   "cell_type": "code",
   "execution_count": null,
   "id": "6a7b1d23-b399-4638-b686-de50b312f613",
   "metadata": {},
   "outputs": [],
   "source": []
  },
  {
   "cell_type": "markdown",
   "id": "f0698f15-81b9-4731-9a06-e6fbbf297e02",
   "metadata": {},
   "source": [
    "## Importing the Data"
   ]
  },
  {
   "cell_type": "markdown",
   "id": "368f7061-d546-4b46-a8ff-1c870b148f2c",
   "metadata": {},
   "source": [
    "### WOA18 "
   ]
  },
  {
   "cell_type": "code",
   "execution_count": 1,
   "id": "e43f510f-7de6-400f-92f6-34f0f5e5d534",
   "metadata": {},
   "outputs": [],
   "source": [
    "#insert WOA data here"
   ]
  },
  {
   "cell_type": "markdown",
   "id": "44dbb977-4832-4385-96b2-034a0cba1b20",
   "metadata": {},
   "source": [
    "Ocean temperature and salinity data is from World Ocean Atlas (WOA). “The World Ocean Atlas (WOA) is a collection of objectively analyzed, quality-controlled temperature, salinity, oxygen, phosphate, silicate, and nitrate means based on profile data from the World Ocean Database (WOD). It can be used to create boundary and/or initial conditions for various ocean models, verify numerical simulations of the ocean, and corroborate satellite data”.  \n",
    "\n",
    "“The World Ocean Database (WOD) is the world's largest collection of uniformly formatted, quality controlled, publicly available ocean profile data. It is a powerful tool for oceanographic, climatic, and environmental research, and the end result of more than 20 years of coordinated efforts to incorporate data from institutions, agencies, individual researchers, and data recovery initiatives into a single database. WOD data spans from Captain Cook's 1772 voyage to the contemporary Argo period, making it a valuable resource for long-term and historical ocean climate analysis. Original versions of the 20,000+ datasets in the WOD are available through the NCEI archives” [(NOAA)](https://www.ncei.noaa.gov/products/world-ocean-database).   \n",
    "\n",
    "Ocean temperature is measured in degrees Celsius and salinity is unitless. Data can be accessed through this link [https://www.ncei.noaa.gov/access/world-ocean-atlas-2018/]()"
   ]
  },
  {
   "cell_type": "markdown",
   "id": "5f7d98ae-a0df-48b7-8949-20a7f4aefe3b",
   "metadata": {},
   "source": [
    "### Ocean heat content, steric sea level rise, thermosteric sea level rise, and halosteric sea level rise anomaly data"
   ]
  },
  {
   "cell_type": "code",
   "execution_count": 2,
   "id": "f5c91a7f-cf9b-4155-8377-b9c1ecee046f",
   "metadata": {},
   "outputs": [],
   "source": [
    "#insert anomaly data here"
   ]
  },
  {
   "cell_type": "markdown",
   "id": "96809ac2-2b78-4547-a175-d191ca99254f",
   "metadata": {},
   "source": [
    "Anomaly observations provide insight for depths 0-2000 meters. Anomalies are computed over the top 700 meters (0-700) and the upper 2000 meters (0-2000). Data collected from 1955 – present. [](https://www.ncei.noaa.gov/access/global-ocean-heat-content/index.html)"
   ]
  },
  {
   "cell_type": "markdown",
   "id": "0125ed5f-e69e-4c05-8853-fd900654eff1",
   "metadata": {},
   "source": [
    "### How is Observed Data Collected?\n",
    "Temperature and salinity data can be collected throughout different depths of the water column through electrical sensors. The most common method is deploying a sensor referred to as a CTD which stands for conductivity, temperature, and depth. Depth is derived through pressure sensors and salinity can be derived from conductivity which is how well a solution can conduct electricity [NOAA](https://oceanexplorer.noaa.gov/explainers/data.html#:~:text=Two%20types%20of%20data%20are,similar%20to%20elevation%20on%20land).  \r",
    " \r\n",
    "\r\n",
    "An additional way that scientists gather information on temperature and salinity is using Argo floats. These floats free-floatingting in ue supper 2,000 meters of the ocean. They’re able to provide valuable information about the conditions of the ocean while being fully autonomous.  "
   ]
  },
  {
   "cell_type": "markdown",
   "id": "e365bc5e-42d9-4c56-8ddf-11c90389aeef",
   "metadata": {},
   "source": [
    "### Model Data"
   ]
  },
  {
   "cell_type": "code",
   "execution_count": 3,
   "id": "583c3c18-0858-44a9-ac75-8c98eb657c25",
   "metadata": {},
   "outputs": [],
   "source": [
    "#insert model data for temp"
   ]
  },
  {
   "cell_type": "code",
   "execution_count": 4,
   "id": "0aa9a5f6-77be-4217-a92a-faa02ec4744c",
   "metadata": {},
   "outputs": [],
   "source": [
    "#insert model data for salinity"
   ]
  },
  {
   "cell_type": "markdown",
   "id": "adb388a5-d98d-4d9b-bd40-0f466af53d10",
   "metadata": {},
   "source": [
    "Monthly simulated ocean temperatures and sea water salinity output from GFDL-ESM4 under the historical experiment spanning from 1980 – 2014 was developed at NOAA's Geophysical Fluid Dynamics Laboratory (GFDL). This data contributed to the sixth phase of the Coupled Model Intercomparison Project (CMIP6) and was made available via Google Cloud [https://console.cloud.google.com/marketplace/product/noaa-public/cmip6.](https://console.cloud.google.com/marketplace/product/noaa-public/cmip6.)"
   ]
  },
  {
   "cell_type": "markdown",
   "id": "c1bd5840-9f93-44e8-a8e1-820256532dad",
   "metadata": {},
   "source": [
    "---"
   ]
  },
  {
   "cell_type": "markdown",
   "id": "d499c6e8-c785-465e-847d-6438d8880c3d",
   "metadata": {},
   "source": [
    "# Analysis\n",
    "Now that we've established a basic understanding of ocean heat content, steric, halosteric, and thermosteric sea level, let's dive into the analysis!"
   ]
  },
  {
   "cell_type": "markdown",
   "id": "325672f3-c943-4bcb-a238-175fd3da6962",
   "metadata": {},
   "source": [
    "## Observed Ocean Heat Content"
   ]
  },
  {
   "cell_type": "code",
   "execution_count": null,
   "id": "1a726b77-e3c4-4369-b0e4-e5b09e350385",
   "metadata": {},
   "outputs": [],
   "source": [
    "#0-700m"
   ]
  },
  {
   "cell_type": "code",
   "execution_count": 1,
   "id": "f872e01b-cb0c-45ec-a821-65a5e7d5f7f3",
   "metadata": {},
   "outputs": [],
   "source": [
    "#0-2000m"
   ]
  },
  {
   "cell_type": "markdown",
   "id": "7daa8620-1ec0-4f6f-a4bf-f162d697a557",
   "metadata": {},
   "source": [
    "## Observed Ocean Temperatures"
   ]
  },
  {
   "cell_type": "markdown",
   "id": "36f20a93-480a-47b4-bd91-c9ea82da3839",
   "metadata": {},
   "source": [
    "### Sea Surface Temperatures "
   ]
  },
  {
   "cell_type": "code",
   "execution_count": null,
   "id": "c1789c7b-5c4f-4aa8-b6b2-f91a594c582d",
   "metadata": {},
   "outputs": [],
   "source": []
  },
  {
   "cell_type": "markdown",
   "id": "747af83d-4503-42ad-86de-204d111cb92c",
   "metadata": {},
   "source": [
    "### Ocean Temperatures at 1000 Meters"
   ]
  },
  {
   "cell_type": "code",
   "execution_count": null,
   "id": "e90f5345-e1ff-465c-b1bd-1f567b032771",
   "metadata": {},
   "outputs": [],
   "source": []
  },
  {
   "cell_type": "code",
   "execution_count": null,
   "id": "1a490c8e-8970-4c51-889c-0bcde16d36a7",
   "metadata": {},
   "outputs": [],
   "source": []
  },
  {
   "cell_type": "markdown",
   "id": "7138b411-3247-4808-85f8-bc9a786ec35e",
   "metadata": {},
   "source": [
    "## ESM4 Historical Model Ocean Temperatures "
   ]
  },
  {
   "cell_type": "code",
   "execution_count": 2,
   "id": "4effb45d-dc24-4cf6-a9a4-5c8ad11ef6fb",
   "metadata": {},
   "outputs": [],
   "source": [
    "#surface temp"
   ]
  },
  {
   "cell_type": "code",
   "execution_count": 3,
   "id": "36f03b36-a80c-42b1-b5eb-660c99c1cd3f",
   "metadata": {},
   "outputs": [],
   "source": [
    "# at depth 1000m"
   ]
  },
  {
   "cell_type": "markdown",
   "id": "4bf67670-c565-4da2-9b77-44a760022805",
   "metadata": {},
   "source": [
    "## Observed Steric Sea Level"
   ]
  },
  {
   "cell_type": "code",
   "execution_count": 4,
   "id": "64b85350-877b-4106-a0d3-4aa87bdd6b43",
   "metadata": {},
   "outputs": [],
   "source": [
    "# steric"
   ]
  },
  {
   "cell_type": "code",
   "execution_count": 5,
   "id": "939392b8-dce9-40b9-af7b-5dcb8925da89",
   "metadata": {},
   "outputs": [],
   "source": [
    "#halosteric"
   ]
  },
  {
   "cell_type": "code",
   "execution_count": 6,
   "id": "8967319f-1abe-4bad-8502-b879d683672c",
   "metadata": {},
   "outputs": [],
   "source": [
    "#thermosteric"
   ]
  },
  {
   "cell_type": "markdown",
   "id": "83783b79-f39e-4c52-826a-04aa31e16b81",
   "metadata": {},
   "source": [
    "## ESM4 Model Sea Salinity"
   ]
  },
  {
   "cell_type": "code",
   "execution_count": null,
   "id": "ac16869b-4c68-437b-b03f-07b36657be81",
   "metadata": {},
   "outputs": [],
   "source": []
  },
  {
   "cell_type": "markdown",
   "id": "8c349c28-c81a-4941-9340-027c7860927f",
   "metadata": {},
   "source": [
    "---"
   ]
  },
  {
   "cell_type": "markdown",
   "id": "be06195f-8304-40a0-8642-096eac5ed40c",
   "metadata": {},
   "source": [
    "# Model Assessment"
   ]
  },
  {
   "cell_type": "code",
   "execution_count": null,
   "id": "96ab8ac7-389d-480d-b359-cc34b9954ee7",
   "metadata": {},
   "outputs": [],
   "source": []
  },
  {
   "cell_type": "code",
   "execution_count": null,
   "id": "45b1121d-c745-4b67-925a-9056f3501e3a",
   "metadata": {},
   "outputs": [],
   "source": []
  },
  {
   "cell_type": "markdown",
   "id": "e1968e1c-bf8a-423a-83a5-d96851fcc114",
   "metadata": {},
   "source": [
    "# The Big Picture"
   ]
  },
  {
   "cell_type": "code",
   "execution_count": null,
   "id": "5a6ae543-2312-4c95-b814-9412a73a0a47",
   "metadata": {},
   "outputs": [],
   "source": []
  }
 ],
 "metadata": {
  "kernelspec": {
   "display_name": "Python 3 (ipykernel)",
   "language": "python",
   "name": "python3"
  },
  "language_info": {
   "codemirror_mode": {
    "name": "ipython",
    "version": 3
   },
   "file_extension": ".py",
   "mimetype": "text/x-python",
   "name": "python",
   "nbconvert_exporter": "python",
   "pygments_lexer": "ipython3",
   "version": "3.11.9"
  }
 },
 "nbformat": 4,
 "nbformat_minor": 5
}
